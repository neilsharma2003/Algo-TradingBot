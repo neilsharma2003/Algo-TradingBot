{
 "cells": [
  {
   "cell_type": "code",
   "execution_count": 1,
   "id": "8b77ce6f",
   "metadata": {},
   "outputs": [],
   "source": [
    "import alpaca_trade_api as tradeapi\n",
    "import pandas as pd\n",
    "import threading\n",
    "import datetime\n",
    "import time\n",
    "import yfinance as yf\n",
    "import numpy as np\n",
    "import matplotlib.pyplot as plt\n",
    "import operator\n",
    "from yahoo_fin import stock_info as si"
   ]
  },
  {
   "cell_type": "code",
   "execution_count": 3,
   "id": "869d7ddc",
   "metadata": {},
   "outputs": [],
   "source": [
    "api_key = pd.read_csv('alpaca_keys.csv')['Secret Key'][0]\n",
    "api_secret = pd.read_csv('alpaca_keys.csv')['Secret Key'][1]\n",
    "base_url = 'https://paper-api.alpaca.markets'\n",
    "\n",
    "# instantiate REST API\n",
    "api = tradeapi.REST(api_key, api_secret, base_url, api_version='v2')\n",
    "\n",
    "# obtain account information\n",
    "account = api.get_account()"
   ]
  },
  {
   "cell_type": "code",
   "execution_count": null,
   "id": "1a8f5f9a",
   "metadata": {},
   "outputs": [],
   "source": [
    "def submit_my_order(symbol, qty, side, order_type, time_in_force):\n",
    "    api.submit_order(symbol, qty, side, order_type, time_in_force)"
   ]
  },
  {
   "cell_type": "code",
   "execution_count": null,
   "id": "2883942a",
   "metadata": {},
   "outputs": [],
   "source": [
    "def remove_duplicates(ticker):\n",
    "    return list(set(ticker))"
   ]
  },
  {
   "cell_type": "code",
   "execution_count": null,
   "id": "be86e717",
   "metadata": {},
   "outputs": [],
   "source": [
    "now = datetime.datetime.now()\n",
    "\n",
    "year = now.strftime(\"%Y\")\n",
    "month = now.strftime(\"%m\")\n",
    "day = now.strftime(\"%d\")\n",
    "current_date = year + \"-\" + month + \"-\" + day\n",
    "year_before = str(int(year) - 1) + \"-\" + month + \"-\" + day"
   ]
  },
  {
   "cell_type": "code",
   "execution_count": null,
   "id": "85066d4d",
   "metadata": {},
   "outputs": [],
   "source": [
    "trading_strategy = int(input(\"Type 1 for an equally weighted buy and hold portfolio, and 2 for a riskier day trade strategy: \"))\n",
    "if trading_strategy == 1:\n",
    "    listoftickers = []\n",
    "    while True:\n",
    "        ticker = input(\"Insert VALID USD tickers and type 'STOP' to terminate input \")\n",
    "        if ticker == 'stop' or ticker == 'STOP' or ticker == 'Stop':\n",
    "            break\n",
    "        else:\n",
    "            listoftickers.append(ticker)\n",
    "    listoftickers = remove_duplicates(listoftickers)\n",
    "    filtered_list = []\n",
    "    for ticker in listoftickers:\n",
    "        info = yf.Ticker(ticker).info\n",
    "        if info.get('regularMarketPrice') == None:\n",
    "            continue\n",
    "        if info.get('currency')!= 'USD':\n",
    "            continue\n",
    "        if info.get ('market') != ('us_market'):\n",
    "            continue\n",
    "        else:\n",
    "            filtered_list.append(ticker)\n",
    "    \n",
    "    ticker_list_based_on_1yr_pct_change = {\"Ticker\":[], \"1 Year Percent Change\":[]}\n",
    "    \n",
    "    for ticker in filtered_list:\n",
    "        ticker_list_based_on_1yr_pct_change[\"Ticker\"].append(ticker)\n",
    "        ticker_list_based_on_1yr_pct_change[\"1 Year Percent Change\"].append(pd.DataFrame(100*yf.Ticker(ticker).history(start = year_before, end = current_date)['Close'].pct_change()).describe()['Close'][1])\n",
    "\n",
    "    ticker_list_based_on_1yr_pct_change = dict(zip(ticker_list_based_on_1yr_pct_change['Ticker'], ticker_list_based_on_1yr_pct_change['1 Year Percent Change']))\n",
    "    sorted_ticker_list_based_on_1yr_pct_change = sorted(ticker_list_based_on_1yr_pct_change.items(), key=operator.itemgetter(1))\n",
    "    sorted_dict = dict(sorted_ticker_list_based_on_1yr_pct_change[::-1]) \n",
    "    \n",
    "    sorted_dict_no_neg = dict((ticker, pct_change) for ticker, pct_change in sorted_dict.items() if pct_change >= 0) \n",
    "    \n",
    "    if len(filtered_list) > 20:\n",
    "        sorted_dict_final = dict(list(sorted_dict_no_neg.items())[:20])\n",
    "    else:\n",
    "        pass\n",
    "    \n",
    "    portfolio_value = float(input(\"Insert the total amount of money (USD) you wish to invest. Please remember large orders can take time to fill and can result in more or less money spent.\"))\n",
    "    \n",
    "    allocated_funds_per_ticker = portfolio_value / len(sorted_dict_final) # equally weighted portfolio\n",
    "    quantity = []\n",
    "    for i in list(sorted_dict_final.keys()):\n",
    "        quantity.append(allocated_funds_per_ticker / yf.download(tickers = i, period = '1d', interval = '1m')['Close'][-1])\n",
    "    \n",
    "    for i in range(len(sorted_dict_final)):\n",
    "        submit_my_order(list(sorted_dict_final.keys())[i], quantity[i], 'buy', 'market', 'gtc')"
   ]
  },
  {
   "cell_type": "code",
   "execution_count": null,
   "id": "debec6fc",
   "metadata": {},
   "outputs": [],
   "source": [
    "if trading_strategy == 2:\n",
    "    ticker = input(\"Insert 1 VALID USD ticker to day trade: \")\n",
    "    quantity = input(\"Insert quantity of said ticker: \")\n",
    "    flag = True\n",
    "    while True:\n",
    "        data = yf.download(tickers = ticker, period='1d', interval='1m')\n",
    "        pct_change = pd.DataFrame(data['Close'].pct_change() * 100)\n",
    "        pct_change.columns = ['Percentage Change in Price']\n",
    "        if flag:\n",
    "            if 0.05 < pct_change['Percentage Change in Price'][-1] <= 0.2:\n",
    "                submit_my_order(ticker, quantity, 'buy', 'market', 'gtc')\n",
    "                print(ticker + \" bought at $ \" + str(si.get_live_price(ticker)))\n",
    "                flag = False\n",
    "        try: var = api.get_position(ticker)\n",
    "        except: var = \"No position\"   \n",
    "        \n",
    "        if var != \"No position\":\n",
    "            if pct_change['Percentage Change in Price'][-1] < -0.1 or pct_change['Percentage Change in Price'][-1] > 0.21:\n",
    "                submit_my_order(ticker, quantity, 'sell', 'market', 'gtc')\n",
    "                print(ticker + \" sold at $ \" + str(si.get_live_price(ticker)))\n",
    "                print(\"Please refer to Alpaca dashboard for accurate buy and sell prices\")\n",
    "                break\n",
    "                \n",
    "            if -0.05 < pct_change['Percentage Change in Price'][-1] < 0:\n",
    "                submit_my_order(ticker, quantity, 'sell', 'market', 'gtc')\n",
    "                print(ticker + \" sold at $ \" + str(si.get_live_price(ticker)))\n",
    "                break\n",
    "        time.sleep(1)"
   ]
  }
 ],
 "metadata": {
  "kernelspec": {
   "display_name": "venv",
   "language": "python",
   "name": "venv"
  },
  "language_info": {
   "codemirror_mode": {
    "name": "ipython",
    "version": 3
   },
   "file_extension": ".py",
   "mimetype": "text/x-python",
   "name": "python",
   "nbconvert_exporter": "python",
   "pygments_lexer": "ipython3",
   "version": "3.9.6"
  }
 },
 "nbformat": 4,
 "nbformat_minor": 5
}
